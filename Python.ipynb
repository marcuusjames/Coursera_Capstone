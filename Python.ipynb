{
    "nbformat_minor": 1, 
    "cells": [
        {
            "source": "<h1>Project Course</h1>\nThis notebook is used for the final test of IBM course", 
            "cell_type": "markdown", 
            "metadata": {}
        }, 
        {
            "execution_count": 42, 
            "cell_type": "code", 
            "metadata": {}, 
            "outputs": [], 
            "source": "import pandas as pd\nimport numpy as np"
        }, 
        {
            "execution_count": 43, 
            "cell_type": "code", 
            "metadata": {}, 
            "outputs": [
                {
                    "output_type": "stream", 
                    "name": "stdout", 
                    "text": "Hello Capstone Project Course\n"
                }
            ], 
            "source": "print ('Hello Capstone Project Course')"
        }, 
        {
            "source": "Here we gonna get the table of postal codes of Canada in a Wikipedia page using the libraries BeautifulSoup and urlib3.\nAfter, we gonna input the", 
            "cell_type": "markdown", 
            "metadata": {}
        }, 
        {
            "execution_count": 99, 
            "cell_type": "code", 
            "metadata": {}, 
            "outputs": [
                {
                    "execution_count": 99, 
                    "metadata": {}, 
                    "data": {
                        "text/plain": "(103, 3)"
                    }, 
                    "output_type": "execute_result"
                }
            ], 
            "source": "import urllib3\nfrom bs4 import BeautifulSoup\nurllib3.disable_warnings()\nhttp = urllib3.poolmanager.PoolManager()\nhtml_doc = http.urlopen('GET', 'https://en.wikipedia.org/wiki/List_of_postal_codes_of_Canada:_M')\nhtml_doc = html_doc.data.decode('utf-8')\nsoup = BeautifulSoup(html_doc, 'html.parser')\ntable = soup.table.get_text()\ntable = table.split('\\n')\nj = 0\nfor key, i in enumerate(table):\n    if i == '':\n        del table[key]      \nfor key, i in enumerate(table):\n    if i == '':\n        del table[key]\nrows = int(len(table)/3)\ntable = np.reshape(table,(rows,3))\ndf = pd.DataFrame(table)\ndf.columns = df.iloc[0]\ndf = df.iloc[1:]\ndf = df[df.Borough != 'Not assigned']\ndf = df.groupby([\"Postcode\",'Borough'])['Neighbourhood'].apply(lambda tags: ','.join(tags))\ndf = df.reset_index()\ndf['Neighbourhood'] = np.where(df['Neighbourhood']=='Not assigned', df['Borough'], df['Neighbourhood'])\ndf.shape"
        }, 
        {
            "execution_count": null, 
            "cell_type": "code", 
            "metadata": {}, 
            "outputs": [], 
            "source": ""
        }
    ], 
    "metadata": {
        "kernelspec": {
            "display_name": "Python 3.5", 
            "name": "python3", 
            "language": "python"
        }, 
        "language_info": {
            "mimetype": "text/x-python", 
            "nbconvert_exporter": "python", 
            "version": "3.5.5", 
            "name": "python", 
            "file_extension": ".py", 
            "pygments_lexer": "ipython3", 
            "codemirror_mode": {
                "version": 3, 
                "name": "ipython"
            }
        }
    }, 
    "nbformat": 4
}